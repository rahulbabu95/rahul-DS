{
 "cells": [
  {
   "cell_type": "markdown",
   "metadata": {},
   "source": [
    "OBJECTIVE:\n",
    "Perform Naive-Bayes classification using 5 fold cross validation, on Amazon Fine food reviews to predict the polarity of the review as either 'Positive' or 'Negative'. The NB is to be performed on text vectorization models such as:\n",
    "1)Bag of Words\n",
    "2)TF-IDF\n",
    "\n",
    "Also come up with the optimal 'Alpha' using the 5-fold cross validation technique and use the same to predict the future TEST data and determine the accuracy, Precision, Recall,F-1 score and confusion matrix for the same. "
   ]
  },
  {
   "cell_type": "code",
   "execution_count": 192,
   "metadata": {},
   "outputs": [],
   "source": [
    "# ============================== loading libraries ===========================================\n",
    "import numpy as np\n",
    "import pandas as pd\n",
    "import matplotlib.pyplot as plt\n",
    "from sklearn.cross_validation import train_test_split\n",
    "from sklearn.neighbors import KNeighborsClassifier\n",
    "from sklearn.metrics import accuracy_score\n",
    "from sklearn.cross_validation import cross_val_score\n",
    "from collections import Counter\n",
    "from sklearn.metrics import precision_score\n",
    "from sklearn.metrics import f1_score\n",
    "from sklearn.metrics import recall_score\n",
    "from sklearn import cross_validation\n",
    "import warnings\n",
    "import sqlite3\n",
    "from sklearn.feature_extraction.text import TfidfTransformer\n",
    "from sklearn.feature_extraction.text import TfidfVectorizer\n",
    "from sklearn.feature_extraction.text import CountVectorizer\n",
    "from sklearn.metrics import confusion_matrix\n",
    "from sklearn import metrics\n",
    "from sklearn import preprocessing\n",
    "from sklearn.metrics import roc_curve, auc\n",
    "from nltk.stem.porter import PorterStemmer\n",
    "from sklearn.decomposition import TruncatedSVD\n",
    "import seaborn as sns\n",
    "\n",
    "warnings.filterwarnings(\"ignore\")\n",
    "# ============================================================================================="
   ]
  },
  {
   "cell_type": "code",
   "execution_count": 193,
   "metadata": {},
   "outputs": [],
   "source": [
    "#Loading the final dataset of AFF after Data preprocessing and removing duplicates done previously in TSNE\n",
    "\n",
    "con = sqlite3.connect('C:\\\\Users\\\\rahul\\\\Desktop\\\\AI COURSE\\\\Amazon Fine food\\\\amazon-fine-food-reviews (1)\\\\final.sqlite')"
   ]
  },
  {
   "cell_type": "code",
   "execution_count": 194,
   "metadata": {},
   "outputs": [
    {
     "name": "stdout",
     "output_type": "stream",
     "text": [
      "(364171, 12)\n",
      "(60000, 12)\n"
     ]
    }
   ],
   "source": [
    "data = pd.read_sql_query(\"\"\"SELECT * FROM REVIEWS \"\"\",con)\n",
    "print(data.shape)\n",
    "\n",
    "#check no of Positive and negative reviews present\n",
    "data['Score'].value_counts()\n",
    "\n",
    "#Performing Time based slicing on the data\n",
    "sorted_data = data.sort_values('Time')\n",
    "\n",
    "#since facing memory issue just taking 20k data points\n",
    "sample_data = sorted_data.sample(n=60000)\n",
    "\n",
    "print(sample_data.shape)\n"
   ]
  },
  {
   "cell_type": "code",
   "execution_count": 195,
   "metadata": {},
   "outputs": [
    {
     "data": {
      "text/plain": [
       "pandas.core.frame.DataFrame"
      ]
     },
     "execution_count": 195,
     "metadata": {},
     "output_type": "execute_result"
    }
   ],
   "source": [
    "label = sample_data['Score']\n",
    "\n",
    "# split the data set into train and test\n",
    "X_train, X_test, y_train, y_test = cross_validation.train_test_split(sample_data, label, test_size=0.3, random_state=0)\n",
    "\n",
    "type(sample_data)"
   ]
  },
  {
   "cell_type": "markdown",
   "metadata": {},
   "source": [
    "BOW Model:"
   ]
  },
  {
   "cell_type": "code",
   "execution_count": 196,
   "metadata": {},
   "outputs": [],
   "source": [
    "#Bag of words using Scikit learn\n",
    "count_vect = CountVectorizer()\n",
    "vocab = count_vect.fit(X_train['CleanedText'].values)\n",
    "type(vocab)\n",
    "\n",
    "#Using the vocab obtained in train to vectorize both train and test data\n",
    "X_train = vocab.transform(X_train['CleanedText'].values)\n",
    "X_test = vocab.transform(X_test['CleanedText'].values)"
   ]
  },
  {
   "cell_type": "code",
   "execution_count": 208,
   "metadata": {},
   "outputs": [],
   "source": [
    "from sklearn.naive_bayes import MultinomialNB\n",
    "\n",
    "#function to find the optimal alpha in NB for 5 fold cross validation\n",
    "def find_optimal_alpha(x,y,n):\n",
    "    # creating a list of alpha for NB\n",
    "    alpha_list = [0.00001,.0001,.001,.01,.1,1,10,100,1000,10000]\n",
    "    \n",
    "    # empty list that will hold cv scores\n",
    "    cv_scores = []\n",
    "\n",
    "# perform 5-fold cross validation \n",
    "\n",
    "#dropping the prior probabilities as we have higly imbalanced data\n",
    "    for alpha in alpha_list:\n",
    "        clf = MultinomialNB(alpha=alpha, fit_prior=False)\n",
    "        scores = cross_val_score(clf, x, y, cv=n, scoring='accuracy')\n",
    "        cv_scores.append(scores.mean())\n",
    "\n",
    "# changing to misclassification error (error = 1 - accuracy)\n",
    "    MSE = [1 - x for x in cv_scores]\n",
    "\n",
    "# determining best k\n",
    "    optimal_alpha = alpha_list[MSE.index(min(MSE))]\n",
    "    print('\\nThe optimal value of alpha is %f.' % optimal_alpha)\n",
    "\n",
    "# plot misclassification error vs k \n",
    "    plt.plot(alpha_list, MSE)\n",
    "\n",
    "    for xy in zip(alpha_list, np.round(MSE,3)):\n",
    "        plt.annotate('(%s, %s)' % xy, xy=xy, textcoords='data')\n",
    "\n",
    "    plt.xlabel('Value of alpha ')\n",
    "    plt.ylabel('Misclassification Error')\n",
    "    plt.show()\n",
    "\n",
    "    print(\"the misclassification error for each alpha value is : \", np.round(MSE,3))\n",
    "    return optimal_alpha\n",
    "    \n",
    "    # ============================== Naive Bayes with alpha = optimal_alpha ===============================================\n",
    "# instantiate learning model k = optimal_k\n",
    "\n",
    "#function to predict the label of test data and return the same as list \n",
    "def pred_test_data(x_tr,y_tr,x_tst,y_tst,optimal_alpha,model):\n",
    "    NB_optimal = MultinomialNB(alpha=optimal_alpha, fit_prior=False)\n",
    "\n",
    "    # fitting the model\n",
    "    NB_optimal.fit(x_tr, y_tr)\n",
    "\n",
    "    # predict the response\n",
    "    pred = NB_optimal.predict(x_tst)\n",
    "    \n",
    "    # evaluate accuracy\n",
    "    acc = accuracy_score(y_tst, pred) * 100\n",
    "    print('\\nThe accuracy of the NB classifier for alpha = %d is %f%%' % (optimal_alpha, acc))\n",
    "    \n",
    "    feat_imp = NB_optimal.feature_log_prob_\n",
    "    \n",
    "    #sort the feature based on log probabilities for each class (since log is a monotonic function)\n",
    "    neg_class_prob_sorted = (-NB_optimal.feature_log_prob_[0, :]).argsort()\n",
    "    pos_class_prob_sorted = (-NB_optimal.feature_log_prob_[1, :]).argsort()\n",
    "\n",
    "    print(\"The most important features for negative class are :\", np.take(model.get_feature_names(), neg_class_prob_sorted[:10]))\n",
    "    print(\"The most important features for positive class are :\", np.take(model.get_feature_names(), pos_class_prob_sorted[:10]))\n",
    "\n",
    "    return pred\n",
    "\n",
    "#Function to create Confusion matrix creation and plotting the same\n",
    "def confusion_heatmap(x,y):\n",
    "    cnf_mat = confusion_matrix(x,y)\n",
    "    print(\"Confusion matrix is : \" ,cnf_mat )\n",
    "    print(\"The True Positive value is:  \",(cnf_mat[1][1]))\n",
    "    print(\"The True Negative value is:  \",(cnf_mat[0][0]))\n",
    "    print(\"The False Positive value is:  \",(cnf_mat[1][0]))\n",
    "    print(\"The False Negative value is:  \",(cnf_mat[0][1]))\n",
    "    sns.heatmap(cnf_mat,cbar_kws={'label': 'colorbar title'},cmap='YlGnBu',linewidths=2, linecolor='yellow')\n",
    "    \n",
    "    \n",
    "def metric_score(x,y):\n",
    "    print(\"The precision score for our model is: \", precision_score(x,y)) \n",
    "    print(\"The f1 score for our model is: \", f1_score(x,y))\n",
    "    print(\"The recall score for our model is: \", recall_score(x,y))\n",
    "    print(\"The accuracy of our model is: \", accuracy_score(x,y))"
   ]
  },
  {
   "cell_type": "code",
   "execution_count": 205,
   "metadata": {},
   "outputs": [
    {
     "name": "stdout",
     "output_type": "stream",
     "text": [
      "\n",
      "The optimal value of alpha is 1.000000.\n"
     ]
    },
    {
     "data": {
      "image/png": "[encoded data removed]",
      "text/plain": [
       "<matplotlib.figure.Figure at 0x1981d8c9470>"
      ]
     },
     "metadata": {},
     "output_type": "display_data"
    },
    {
     "name": "stdout",
     "output_type": "stream",
     "text": [
      "the misclassification error for each alpha value is :  [0.145 0.143 0.14  0.137 0.138 0.116 0.146 0.156 0.156 0.156]\n"
     ]
    }
   ],
   "source": [
    "opt_alpha = find_optimal_alpha(X_train,y_train,5)"
   ]
  },
  {
   "cell_type": "code",
   "execution_count": 206,
   "metadata": {},
   "outputs": [
    {
     "name": "stdout",
     "output_type": "stream",
     "text": [
      "\n",
      "The accuracy of the NB classifier for alpha = 1 is 89.516667%\n",
      "The most important features for negative class are : ['not' 'tast' 'like' 'product' 'one' 'flavor' 'would' 'tri' 'use' 'good']\n",
      "The most important features for positive class are : ['not' 'like' 'tast' 'good' 'love' 'flavor' 'great' 'use' 'one' 'product']\n"
     ]
    },
    {
     "data": {
      "text/plain": [
       "numpy.ndarray"
      ]
     },
     "execution_count": 206,
     "metadata": {},
     "output_type": "execute_result"
    }
   ],
   "source": [
    "y_pred = pred_test_data(X_train,y_train,X_test,y_test,opt_alpha,count_vect)\n",
    "type(y_pred)"
   ]
  },
  {
   "cell_type": "code",
   "execution_count": 209,
   "metadata": {},
   "outputs": [
    {
     "name": "stdout",
     "output_type": "stream",
     "text": [
      "Confusion matrix is :  [[ 2110   721]\n",
      " [ 1166 14003]]\n",
      "The True Positive value is:   14003\n",
      "The True Negative value is:   2110\n",
      "The False Positive value is:   1166\n",
      "The False Negative value is:   721\n"
     ]
    },
    {
     "data": {
      "image/png": "[encoded data removed]",
      "text/plain": [
       "<matplotlib.figure.Figure at 0x19841881240>"
      ]
     },
     "metadata": {},
     "output_type": "display_data"
    }
   ],
   "source": [
    "confusion_heatmap(y_test,y_pred)"
   ]
  },
  {
   "cell_type": "code",
   "execution_count": 210,
   "metadata": {},
   "outputs": [
    {
     "name": "stdout",
     "output_type": "stream",
     "text": [
      "[1 1 1 ... 1 1 1]\n",
      "The precision score for our model is:  0.9510323281716925\n",
      "The f1 score for our model is:  0.936874853644666\n",
      "The recall score for our model is:  0.9231327048585932\n",
      "The accuracy of our model is:  0.8951666666666667\n"
     ]
    }
   ],
   "source": [
    "#determining metrics precision,recall,f-1 scores for our model\n",
    "# print(y_test.shape)\n",
    "# print(type(y_pred))\n",
    "# print(type(y_test))\n",
    "# metric_score(y_test,y_pred)\n",
    "\n",
    "encoder = preprocessing.LabelEncoder()\n",
    "y_en_test = encoder.fit_transform(y_test)\n",
    "y_en_pred = encoder.fit_transform(y_pred)\n",
    "print(y_en_pred)\n",
    "metric_score(y_en_test,y_en_pred)"
   ]
  },
  {
   "cell_type": "markdown",
   "metadata": {},
   "source": [
    "Conclusion:\n",
    "1.Naive Bayes using 5-fold validation was performed on a sample dataset of AFF for Bag of words.\n",
    "2.We chose the standard 70-30 split i.e. 70% as train data and 30% as test data.\n",
    "3.The optimal alpha in was computed to be 1.\n",
    "4.Confusion matrix was plotted for the same. We got True Negative value of 2110 and True Positive value of 14003. we also get a high false positive value of 1166 meaning more misclassification of the negative class.\n",
    "5.The accuracy,precision, recall and f1 scores are 89.51 % , 95.10%, 92.31% and 93.68 % respectively. This means that we are performing remarkabely well in Postive class classification.\n",
    "6.Also NB helps us in getting the feature importance, we got the top 10 words that helped us in classifying a given point for both classes.They were:\n",
    "Positive--> ['not' 'like' 'tast' 'good' 'love' 'flavor' 'great' 'use' 'one' 'product']\n",
    "Negative--> ['not' 'tast' 'like' 'product' 'one' 'flavor' 'would' 'tri' 'use' 'good']\n",
    "7.Since there were memory issues, only a sample 60k dataset had been chosen."
   ]
  },
  {
   "cell_type": "markdown",
   "metadata": {},
   "source": [
    "TF-IDF Model:"
   ]
  },
  {
   "cell_type": "code",
   "execution_count": 211,
   "metadata": {},
   "outputs": [
    {
     "data": {
      "text/plain": [
       "scipy.sparse.csr.csr_matrix"
      ]
     },
     "execution_count": 211,
     "metadata": {},
     "output_type": "execute_result"
    }
   ],
   "source": [
    "X_train, X_test, y_train, y_test = cross_validation.train_test_split(sample_data, label, test_size=0.3, random_state=0)\n",
    "#Converting text into vector using tfidf vectorizer\n",
    "tf_idf_vect = TfidfVectorizer(ngram_range=(1,2))\n",
    "vocab = tf_idf_vect.fit(X_train['CleanedText'].values)\n",
    "X_train = vocab.transform(X_train['CleanedText'].values)\n",
    "X_test = vocab.transform(X_test['CleanedText'].values)\n",
    "\n",
    "type(X_train)"
   ]
  },
  {
   "cell_type": "code",
   "execution_count": 212,
   "metadata": {},
   "outputs": [
    {
     "name": "stdout",
     "output_type": "stream",
     "text": [
      "\n",
      "The optimal value of alpha is 0.100000.\n"
     ]
    },
    {
     "data": {
      "image/png": "[encoded data removed]",
      "text/plain": [
       "<matplotlib.figure.Figure at 0x1983a076390>"
      ]
     },
     "metadata": {},
     "output_type": "display_data"
    },
    {
     "name": "stdout",
     "output_type": "stream",
     "text": [
      "the misclassification error for each alpha value is :  [0.128 0.132 0.17  0.276 0.125 0.155 0.156 0.156 0.156 0.156]\n"
     ]
    }
   ],
   "source": [
    "opt_alpha = find_optimal_alpha(X_train,y_train,5)"
   ]
  },
  {
   "cell_type": "code",
   "execution_count": 213,
   "metadata": {},
   "outputs": [
    {
     "name": "stdout",
     "output_type": "stream",
     "text": [
      "\n",
      "The accuracy of the NB classifier for alpha = 0 is 89.172222%\n",
      "The most important features for negative class are : ['not' 'tast' 'like' 'product' 'would' 'flavor' 'coffe' 'one' 'tri' 'buy']\n",
      "The most important features for positive class are : ['love' 'great' 'like' 'good' 'tast' 'not' 'tea' 'coffe' 'flavor'\n",
      " 'product']\n"
     ]
    },
    {
     "data": {
      "text/plain": [
       "numpy.ndarray"
      ]
     },
     "execution_count": 213,
     "metadata": {},
     "output_type": "execute_result"
    }
   ],
   "source": [
    "y_pred = pred_test_data(X_train,y_train,X_test,y_test,opt_alpha,tf_idf_vect)\n",
    "type(y_pred)"
   ]
  },
  {
   "cell_type": "code",
   "execution_count": 214,
   "metadata": {},
   "outputs": [
    {
     "name": "stdout",
     "output_type": "stream",
     "text": [
      "Confusion matrix is :  [[  987  1844]\n",
      " [  105 15064]]\n",
      "The True Positive value is:   15064\n",
      "The True Negative value is:   987\n",
      "The False Positive value is:   105\n",
      "The False Negative value is:   1844\n"
     ]
    },
    {
     "data": {
      "image/png": "[encoded data removed]",
      "text/plain": [
       "<matplotlib.figure.Figure at 0x1983a076e80>"
      ]
     },
     "metadata": {},
     "output_type": "display_data"
    }
   ],
   "source": [
    "confusion_heatmap(y_test,y_pred)"
   ]
  },
  {
   "cell_type": "code",
   "execution_count": 215,
   "metadata": {},
   "outputs": [
    {
     "name": "stdout",
     "output_type": "stream",
     "text": [
      "[1 1 1 ... 1 1 1]\n",
      "The precision score for our model is:  0.890939200378519\n",
      "The f1 score for our model is:  0.939239953861022\n",
      "The recall score for our model is:  0.9930779880018459\n",
      "The accuracy of our model is:  0.8917222222222222\n"
     ]
    }
   ],
   "source": [
    "#determining metrics precision,recall,f-1 scores for our model\n",
    "# print(y_test.shape)\n",
    "# print(type(y_pred))\n",
    "# print(type(y_test))\n",
    "# metric_score(y_test,y_pred)\n",
    "\n",
    "encoder = preprocessing.LabelEncoder()\n",
    "y_en_test = encoder.fit_transform(y_test)\n",
    "y_en_pred = encoder.fit_transform(y_pred)\n",
    "print(y_en_pred)\n",
    "metric_score(y_en_test,y_en_pred)"
   ]
  },
  {
   "cell_type": "markdown",
   "metadata": {},
   "source": [
    "Conclusion:\n",
    "1.Naive Bayes using 5-fold validation was performed on a sample dataset of AFF for TF-IDF.\n",
    "2.We chose the standard 70-30 split i.e. 70% as train data and 30% as test data.\n",
    "3.The optimal alpha in was computed to be .1.\n",
    "4.Confusion matrix was plotted for the same. We got True Negative value of 987 and True Positive value of 15064. we also get a low false positive value of 105 meaning lesser misclassification of the postive class.\n",
    "5.The accuracy,precision, recall and f1 scores are 89.17 % , 89.09%, 99.30% and 93.92 % respectively. It can be seen that we are performing better in classifing postive class than negative class.\n",
    "6.Also NB helps us in getting the feature importance, we got the top 10 words that helped us in classifying a given point for both classes.They were:\n",
    "Positive--> ['not' 'like' 'tast' 'good' 'love' 'flavor' 'great' 'use' 'one' 'product']\n",
    "Negative--> ['not' 'tast' 'like' 'product' 'would' 'flavor' 'coffe' 'one' 'tri' 'buy']\n",
    "7.Since there were memory issues, only a sample 60k dataset had been chosen."
   ]
  },
  {
   "cell_type": "code",
   "execution_count": 216,
   "metadata": {},
   "outputs": [
    {
     "name": "stdout",
     "output_type": "stream",
     "text": [
      "+---------------+-------+--------+\n",
      "|     METRIC    | B.O.W | TF-IDF |\n",
      "+---------------+-------+--------+\n",
      "|     Alpha     |   1   |  0.1   |\n",
      "| True Positive | 14003 | 15064  |\n",
      "| True Negative |  2110 |  987   |\n",
      "|    Accuracy   | 89.51 | 89.17  |\n",
      "|   Precision   |  95.1 | 89.09  |\n",
      "|     Recall    | 92.31 |  99.3  |\n",
      "|   F1 Scores   | 93.68 | 93.92  |\n",
      "+---------------+-------+--------+\n"
     ]
    }
   ],
   "source": [
    "from prettytable import PrettyTable\n",
    "    \n",
    "x = PrettyTable([\"METRIC\", \"B.O.W\", \"TF-IDF\"])\n",
    "\n",
    "x.add_row([\"Alpha\",1, .1])\n",
    "x.add_row([\"True Positive\",14003, 15064])\n",
    "x.add_row([\"True Negative\",2110, 987])\n",
    "x.add_row([\"Accuracy\",89.51, 89.17])\n",
    "x.add_row([\"Precision\",95.10, 89.09])\n",
    "x.add_row([\"Recall\",92.31, 99.30])\n",
    "x.add_row([\"F1 Scores\",93.68, 93.92])\n",
    "\n",
    "print(x)"
   ]
  }
 ],
 "metadata": {
  "kernelspec": {
   "display_name": "Python 3",
   "language": "python",
   "name": "python3"
  },
  "language_info": {
   "codemirror_mode": {
    "name": "ipython",
    "version": 3
   },
   "file_extension": ".py",
   "mimetype": "text/x-python",
   "name": "python",
   "nbconvert_exporter": "python",
   "pygments_lexer": "ipython3",
   "version": "3.6.4"
  }
 },
 "nbformat": 4,
 "nbformat_minor": 2
}
